{
 "cells": [
  {
   "cell_type": "markdown",
   "metadata": {},
   "source": [
    "# BoXHED 2.0 quick start"
   ]
  },
  {
   "cell_type": "markdown",
   "metadata": {},
   "source": [
    "BoXHED 2.0 is a software package for nonparametrically estimating hazard functions via gradient boosting. It extends BoXHED 1.0 whose paper can be found here: [BoXHED: Boosted eXact Hazard Estimator with Dynamic covariates](http://proceedings.mlr.press/v119/wang20o/wang20o.pdf)."
   ]
  },
  {
   "cell_type": "markdown",
   "metadata": {},
   "source": [
    "This section provides a demonstration of applying BoXHED 2.0 to a synthetic data example. "
   ]
  },
  {
   "cell_type": "markdown",
   "metadata": {},
   "source": [
    "### 1. Importing convenience functions from main.py"
   ]
  },
  {
   "cell_type": "markdown",
   "metadata": {},
   "source": [
    "Here we introduce the functions we import from main.py (the script we use for evaluating BoXHED2.0)."
   ]
  },
  {
   "cell_type": "markdown",
   "metadata": {},
   "source": [
    "**_read_synth** reads the synthetic data for training and returns a pandas dataframe.\n",
    "\n",
    "input:\n",
    "* *ind_exp*: hazard function number, based on the paper\n",
    "* *num_irrelevant*: number of irrelevant covariates, 0, 20, or 40\n",
    "\n",
    "output:\n",
    "\n",
    "a pandas data frame consisting of the following columns:\n",
    "* *patient*: the unit number. It starts from 1 to the number of the patients in the datasets.\n",
    "* *t_start*: the start time of the observation\n",
    "* *t_end*: the end time of the observation\n",
    "* *X_i*: other covariates (the name is not important for other covariates)"
   ]
  },
  {
   "cell_type": "code",
   "execution_count": 1,
   "metadata": {},
   "outputs": [],
   "source": [
    "from main import _read_synth"
   ]
  },
  {
   "cell_type": "markdown",
   "metadata": {},
   "source": [
    "**_read_synth_test** reads the synthetic data for testing and returns a pandas dataframe as well as true hazard function (for RMSE calculation)\n",
    "\n",
    "input:\n",
    "* *ind_exp*: hazard function number, based on the paper\n",
    "* *num_irrelevant*: number of irrelevant covariates, 0, 20, or 40\n",
    "\n",
    "output:\n",
    "\n",
    "* a numpy array for true hazard function for each row of the test data.\n",
    "* a pandas data frame consisting of the following columns:\n",
    "  * *t_start*: the start time of the observation\n",
    "  * *X_i*: other covariates (the name is not important for other covariates)"
   ]
  },
  {
   "cell_type": "code",
   "execution_count": 2,
   "metadata": {},
   "outputs": [],
   "source": [
    "from main import _read_synth_test"
   ]
  },
  {
   "cell_type": "markdown",
   "metadata": {},
   "source": [
    "**drop_rows** drops rows randomly to introduce censoring. \n",
    "\n",
    "input:\n",
    "* *data*: input data as read by *_read_synth*\n",
    "* *num_irrelevant*: probability of each row staying in the dataset\n",
    "\n",
    "output:\n",
    "* a pandas data frame similar to the input, but probably with fewer rows and disccontinuity in time."
   ]
  },
  {
   "cell_type": "code",
   "execution_count": 3,
   "metadata": {},
   "outputs": [],
   "source": [
    "from main import drop_rows"
   ]
  },
  {
   "cell_type": "markdown",
   "metadata": {},
   "source": [
    "as an example, we select arbitrary values for simulation parameters and train/test BoXHED2.0 using them."
   ]
  },
  {
   "cell_type": "markdown",
   "metadata": {},
   "source": [
    "### 2. Running an example"
   ]
  },
  {
   "cell_type": "markdown",
   "metadata": {},
   "source": [
    "selecting specific simulation parameters:"
   ]
  },
  {
   "cell_type": "code",
   "execution_count": 4,
   "metadata": {},
   "outputs": [],
   "source": [
    "exp_num   = 41  #experiment index. could also be 42, 43, and 44\n",
    "num_irr   = 20  #number of irrelevant features. could also be 0 and 40\n",
    "keep_prob = .8  #1-prob_{dropout}. could be any number in (0,1]\n",
    "num_quant = 256 #number of quantiles. Could be any integer in [8, 256] "
   ]
  },
  {
   "cell_type": "markdown",
   "metadata": {},
   "source": [
    "reading in the data"
   ]
  },
  {
   "cell_type": "code",
   "execution_count": 5,
   "metadata": {},
   "outputs": [],
   "source": [
    "data = _read_synth(exp_num, num_irr)"
   ]
  },
  {
   "cell_type": "markdown",
   "metadata": {},
   "source": [
    "importing the BoXHED model: (for simplicity we have omitted hyper-parameter tuning, but it is implemented in *main.py*)"
   ]
  },
  {
   "cell_type": "code",
   "execution_count": 6,
   "metadata": {},
   "outputs": [],
   "source": [
    "from boxhed import boxhed\n",
    "boxhed_ = boxhed(max_depth    = 1,\n",
    "                 n_estimators = 150)"
   ]
  },
  {
   "cell_type": "markdown",
   "metadata": {},
   "source": [
    "now we call the preprocessor on the input data:"
   ]
  },
  {
   "cell_type": "code",
   "execution_count": 7,
   "metadata": {},
   "outputs": [],
   "source": [
    "subjects, X, w, delta = boxhed_.preprocess(\n",
    "        data             = data,\n",
    "        quant_per_column = num_quant,\n",
    "        weighted         = True,\n",
    "        nthreads         = 1)"
   ]
  },
  {
   "cell_type": "markdown",
   "metadata": {},
   "source": [
    "boxhed.preprocess has 4 inputs. The only one needing clarification is a boolean *weighted* which decides whether the quantiles are weighted in training or no.\n",
    "\n",
    "It also has 3 outputs:\n",
    "* *subjects*: patients for each row of *X* and *y*.\n",
    "* *X*: input covariates as fed to BoXHED 2.0. It consists of covariates as well as *t_start*\n",
    "* *w*: duration of each trajectory\n",
    "* *delta*: denotes whether the event of interest has happened at the end of the trajectory or not."
   ]
  },
  {
   "cell_type": "markdown",
   "metadata": {},
   "source": [
    "fitting a BoXHED model would look like:"
   ]
  },
  {
   "cell_type": "code",
   "execution_count": 8,
   "metadata": {},
   "outputs": [
    {
     "data": {
      "text/plain": [
       "boxhed(n_estimators=150)"
      ]
     },
     "execution_count": 8,
     "metadata": {},
     "output_type": "execute_result"
    }
   ],
   "source": [
    "boxhed_.fit (X, delta, w)"
   ]
  },
  {
   "cell_type": "markdown",
   "metadata": {},
   "source": [
    "we now read the test set and its corresponding true hazard value:"
   ]
  },
  {
   "cell_type": "code",
   "execution_count": 11,
   "metadata": {},
   "outputs": [],
   "source": [
    "true_haz, test_x = _read_synth_test(exp_num, num_irr) "
   ]
  },
  {
   "cell_type": "markdown",
   "metadata": {},
   "source": [
    "making a prediction on the test set:"
   ]
  },
  {
   "cell_type": "code",
   "execution_count": 12,
   "metadata": {},
   "outputs": [],
   "source": [
    "preds = boxhed_.predict(test_x)"
   ]
  },
  {
   "cell_type": "markdown",
   "metadata": {},
   "source": [
    "we now measure the RMSE by:"
   ]
  },
  {
   "cell_type": "code",
   "execution_count": 13,
   "metadata": {},
   "outputs": [],
   "source": [
    "from main import calc_L2\n",
    "L2 = calc_L2(preds, true_haz)"
   ]
  },
  {
   "cell_type": "markdown",
   "metadata": {},
   "source": [
    "the point estimate along with the CI is as follows:"
   ]
  },
  {
   "cell_type": "code",
   "execution_count": 14,
   "metadata": {},
   "outputs": [
    {
     "data": {
      "text/plain": [
       "[0.1752634914366061, [0.17166798400756458, 0.17885899886564763]]"
      ]
     },
     "execution_count": 14,
     "metadata": {},
     "output_type": "execute_result"
    }
   ],
   "source": [
    "L2"
   ]
  },
  {
   "cell_type": "code",
   "execution_count": null,
   "metadata": {},
   "outputs": [],
   "source": []
  }
 ],
 "metadata": {
  "kernelspec": {
   "display_name": "Python 3",
   "language": "python",
   "name": "python3"
  },
  "language_info": {
   "codemirror_mode": {
    "name": "ipython",
    "version": 3
   },
   "file_extension": ".py",
   "mimetype": "text/x-python",
   "name": "python",
   "nbconvert_exporter": "python",
   "pygments_lexer": "ipython3",
   "version": "3.8.8"
  }
 },
 "nbformat": 4,
 "nbformat_minor": 2
}
