{
 "cells": [
  {
   "cell_type": "markdown",
   "metadata": {},
   "source": [
    "# BoXHED 2.0 quick start"
   ]
  },
  {
   "cell_type": "markdown",
   "metadata": {},
   "source": [
    "[BoXHED 2.0](https://arxiv.org/pdf/2103.12591.pdf) is a software package for estimating hazard functions nonparametrically via gradient boosting. It dramatically improves upon BoXHED 1.0 [BoXHED: Boosted eXact Hazard Estimator with Dynamic covariates](http://proceedings.mlr.press/v119/wang20o/wang20o.pdf) in speed. BoXHED 2.0 also allows for more general forms of survival data including recurrent events."
   ]
  },
  {
   "cell_type": "markdown",
   "metadata": {},
   "source": [
    "This tutorial demonstrates how to apply BoXHED 2.0 to a synthetic dataset. An expanded user's guide can be found in main.py."
   ]
  },
  {
   "cell_type": "markdown",
   "metadata": {},
   "source": [
    "### 1. Importing convenience functions from main.py"
   ]
  },
  {
   "cell_type": "markdown",
   "metadata": {},
   "source": [
    "**_read_synth** reads the synthetic training data and returns a pandas dataframe.\n",
    "\n",
    "Input:\n",
    "* *exp_num*: index for the simulated dataset used in Section 5.3 of the BoXHED 1.0 paper (1, 2, 3, or 4)\n",
    "* *num_irr*: number of irrelevant covariates used in the simulation (0, 20, or 40)\n",
    "\n",
    "Output:\n",
    "\n",
    "A pandas data frame with the following columns:\n",
    "* *subject*: subject ID\n",
    "* *t_start*: the start time of an epoch for the patient\n",
    "* *t_end*: the end time of the epoch\n",
    "* *X_i*: Values of covariates between *t_start* and *t_end* \n",
    "\n",
    "We will see what the input data looks like below"
   ]
  },
  {
   "cell_type": "code",
   "execution_count": 1,
   "metadata": {},
   "outputs": [],
   "source": [
    "from main import _read_synth"
   ]
  },
  {
   "cell_type": "markdown",
   "metadata": {},
   "source": [
    "**_read_synth_test** reads the synthetic test data and returns a pandas dataframe. The values of the true hazard function are also provided for accuracy comparisons\n",
    "\n",
    "Input:\n",
    "* *exp_num*: index for the simulated dataset used in Section 5.3 of the BoXHED 1.0 paper (1, 2, 3, or 4)\n",
    "* *num_irr*: number of irrelevant covariates used in the simulation (0, 20, or 40)\n",
    "\n",
    "Output:\n",
    "\n",
    "* a pandas data frame with the following columns:\n",
    "  * *t*: time\n",
    "  * *X_i*: covariate values at time *t*\n",
    "* a numpy array containing the values of the true hazard function for each row above\n"
   ]
  },
  {
   "cell_type": "code",
   "execution_count": 2,
   "metadata": {},
   "outputs": [],
   "source": [
    "from main import _read_synth_test"
   ]
  },
  {
   "cell_type": "markdown",
   "metadata": {},
   "source": [
    "### 2. Running an example"
   ]
  },
  {
   "cell_type": "code",
   "execution_count": 3,
   "metadata": {},
   "outputs": [],
   "source": [
    "exp_num       = 1  \n",
    "num_irr       = 20  \n",
    "num_quantiles = 256 #number of candidate split points (locations based on quantiles). Integer from 8 to 256\n",
    "\n",
    "data = _read_synth(exp_num, num_irr)"
   ]
  },
  {
   "cell_type": "code",
   "execution_count": 4,
   "metadata": {
    "scrolled": true
   },
   "outputs": [
    {
     "data": {
      "text/html": [
       "<div>\n",
       "<style scoped>\n",
       "    .dataframe tbody tr th:only-of-type {\n",
       "        vertical-align: middle;\n",
       "    }\n",
       "\n",
       "    .dataframe tbody tr th {\n",
       "        vertical-align: top;\n",
       "    }\n",
       "\n",
       "    .dataframe thead th {\n",
       "        text-align: right;\n",
       "    }\n",
       "</style>\n",
       "<table border=\"1\" class=\"dataframe\">\n",
       "  <thead>\n",
       "    <tr style=\"text-align: right;\">\n",
       "      <th></th>\n",
       "      <th>subject</th>\n",
       "      <th>t_start</th>\n",
       "      <th>t_end</th>\n",
       "      <th>X_0</th>\n",
       "      <th>X_1</th>\n",
       "      <th>X_2</th>\n",
       "      <th>X_10</th>\n",
       "      <th>X_11</th>\n",
       "      <th>X_12</th>\n",
       "      <th>X_13</th>\n",
       "      <th>X_14</th>\n",
       "      <th>X_15</th>\n",
       "      <th>X_16</th>\n",
       "      <th>X_17</th>\n",
       "      <th>X_18</th>\n",
       "      <th>X_19</th>\n",
       "      <th>X_20</th>\n",
       "      <th>delta</th>\n",
       "    </tr>\n",
       "  </thead>\n",
       "  <tbody>\n",
       "    <tr>\n",
       "      <th>0</th>\n",
       "      <td>1.0</td>\n",
       "      <td>0.010000</td>\n",
       "      <td>0.064333</td>\n",
       "      <td>0.152407</td>\n",
       "      <td>0.766206</td>\n",
       "      <td>0.243241</td>\n",
       "      <td>0.964592</td>\n",
       "      <td>0.138555</td>\n",
       "      <td>0.328829</td>\n",
       "      <td>0.677724</td>\n",
       "      <td>0.244175</td>\n",
       "      <td>0.330192</td>\n",
       "      <td>0.748040</td>\n",
       "      <td>0.622986</td>\n",
       "      <td>0.177698</td>\n",
       "      <td>0.104307</td>\n",
       "      <td>0.243527</td>\n",
       "      <td>0.0</td>\n",
       "    </tr>\n",
       "    <tr>\n",
       "      <th>1</th>\n",
       "      <td>1.0</td>\n",
       "      <td>0.064333</td>\n",
       "      <td>0.135136</td>\n",
       "      <td>0.308475</td>\n",
       "      <td>0.062914</td>\n",
       "      <td>0.099524</td>\n",
       "      <td>0.368705</td>\n",
       "      <td>0.801284</td>\n",
       "      <td>0.428748</td>\n",
       "      <td>0.136333</td>\n",
       "      <td>0.260494</td>\n",
       "      <td>0.694811</td>\n",
       "      <td>0.801564</td>\n",
       "      <td>0.445232</td>\n",
       "      <td>0.729579</td>\n",
       "      <td>0.442358</td>\n",
       "      <td>0.930640</td>\n",
       "      <td>0.0</td>\n",
       "    </tr>\n",
       "    <tr>\n",
       "      <th>2</th>\n",
       "      <td>1.0</td>\n",
       "      <td>0.194810</td>\n",
       "      <td>0.223106</td>\n",
       "      <td>0.614977</td>\n",
       "      <td>0.506616</td>\n",
       "      <td>0.136171</td>\n",
       "      <td>0.702439</td>\n",
       "      <td>0.914293</td>\n",
       "      <td>0.376288</td>\n",
       "      <td>0.132540</td>\n",
       "      <td>0.249119</td>\n",
       "      <td>0.478678</td>\n",
       "      <td>0.902935</td>\n",
       "      <td>0.536759</td>\n",
       "      <td>0.484972</td>\n",
       "      <td>0.441427</td>\n",
       "      <td>0.099009</td>\n",
       "      <td>1.0</td>\n",
       "    </tr>\n",
       "    <tr>\n",
       "      <th>3</th>\n",
       "      <td>1.0</td>\n",
       "      <td>0.223106</td>\n",
       "      <td>0.248753</td>\n",
       "      <td>0.614977</td>\n",
       "      <td>0.506616</td>\n",
       "      <td>0.136171</td>\n",
       "      <td>0.702439</td>\n",
       "      <td>0.914293</td>\n",
       "      <td>0.376288</td>\n",
       "      <td>0.132540</td>\n",
       "      <td>0.249119</td>\n",
       "      <td>0.478678</td>\n",
       "      <td>0.902935</td>\n",
       "      <td>0.536759</td>\n",
       "      <td>0.484972</td>\n",
       "      <td>0.441427</td>\n",
       "      <td>0.099009</td>\n",
       "      <td>0.0</td>\n",
       "    </tr>\n",
       "    <tr>\n",
       "      <th>4</th>\n",
       "      <td>1.0</td>\n",
       "      <td>0.248753</td>\n",
       "      <td>0.290695</td>\n",
       "      <td>0.879444</td>\n",
       "      <td>0.991845</td>\n",
       "      <td>0.821709</td>\n",
       "      <td>0.598007</td>\n",
       "      <td>0.562564</td>\n",
       "      <td>0.808424</td>\n",
       "      <td>0.753449</td>\n",
       "      <td>0.205437</td>\n",
       "      <td>0.897105</td>\n",
       "      <td>0.466843</td>\n",
       "      <td>0.518021</td>\n",
       "      <td>0.863728</td>\n",
       "      <td>0.492777</td>\n",
       "      <td>0.921254</td>\n",
       "      <td>0.0</td>\n",
       "    </tr>\n",
       "    <tr>\n",
       "      <th>...</th>\n",
       "      <td>...</td>\n",
       "      <td>...</td>\n",
       "      <td>...</td>\n",
       "      <td>...</td>\n",
       "      <td>...</td>\n",
       "      <td>...</td>\n",
       "      <td>...</td>\n",
       "      <td>...</td>\n",
       "      <td>...</td>\n",
       "      <td>...</td>\n",
       "      <td>...</td>\n",
       "      <td>...</td>\n",
       "      <td>...</td>\n",
       "      <td>...</td>\n",
       "      <td>...</td>\n",
       "      <td>...</td>\n",
       "      <td>...</td>\n",
       "      <td>...</td>\n",
       "    </tr>\n",
       "    <tr>\n",
       "      <th>76259</th>\n",
       "      <td>5000.0</td>\n",
       "      <td>0.795027</td>\n",
       "      <td>0.841729</td>\n",
       "      <td>0.196407</td>\n",
       "      <td>0.025375</td>\n",
       "      <td>0.387692</td>\n",
       "      <td>0.641372</td>\n",
       "      <td>0.082344</td>\n",
       "      <td>0.852261</td>\n",
       "      <td>0.214533</td>\n",
       "      <td>0.354664</td>\n",
       "      <td>0.220370</td>\n",
       "      <td>0.220250</td>\n",
       "      <td>0.132187</td>\n",
       "      <td>0.839544</td>\n",
       "      <td>0.855417</td>\n",
       "      <td>0.202244</td>\n",
       "      <td>1.0</td>\n",
       "    </tr>\n",
       "    <tr>\n",
       "      <th>76260</th>\n",
       "      <td>5000.0</td>\n",
       "      <td>0.841729</td>\n",
       "      <td>0.886587</td>\n",
       "      <td>0.196407</td>\n",
       "      <td>0.025375</td>\n",
       "      <td>0.387692</td>\n",
       "      <td>0.641372</td>\n",
       "      <td>0.082344</td>\n",
       "      <td>0.852261</td>\n",
       "      <td>0.214533</td>\n",
       "      <td>0.354664</td>\n",
       "      <td>0.220370</td>\n",
       "      <td>0.220250</td>\n",
       "      <td>0.132187</td>\n",
       "      <td>0.839544</td>\n",
       "      <td>0.855417</td>\n",
       "      <td>0.202244</td>\n",
       "      <td>0.0</td>\n",
       "    </tr>\n",
       "    <tr>\n",
       "      <th>76261</th>\n",
       "      <td>5000.0</td>\n",
       "      <td>0.886587</td>\n",
       "      <td>0.949803</td>\n",
       "      <td>0.671227</td>\n",
       "      <td>0.986347</td>\n",
       "      <td>0.972556</td>\n",
       "      <td>0.350481</td>\n",
       "      <td>0.776933</td>\n",
       "      <td>0.851917</td>\n",
       "      <td>0.763872</td>\n",
       "      <td>0.604797</td>\n",
       "      <td>0.805040</td>\n",
       "      <td>0.838278</td>\n",
       "      <td>0.170575</td>\n",
       "      <td>0.166778</td>\n",
       "      <td>0.682828</td>\n",
       "      <td>0.411376</td>\n",
       "      <td>0.0</td>\n",
       "    </tr>\n",
       "    <tr>\n",
       "      <th>76262</th>\n",
       "      <td>5000.0</td>\n",
       "      <td>0.991068</td>\n",
       "      <td>0.997355</td>\n",
       "      <td>0.506519</td>\n",
       "      <td>0.931181</td>\n",
       "      <td>0.018766</td>\n",
       "      <td>0.716787</td>\n",
       "      <td>0.958361</td>\n",
       "      <td>0.158138</td>\n",
       "      <td>0.343687</td>\n",
       "      <td>0.437030</td>\n",
       "      <td>0.220983</td>\n",
       "      <td>0.871205</td>\n",
       "      <td>0.852959</td>\n",
       "      <td>0.130933</td>\n",
       "      <td>0.532446</td>\n",
       "      <td>0.690477</td>\n",
       "      <td>0.0</td>\n",
       "    </tr>\n",
       "    <tr>\n",
       "      <th>76263</th>\n",
       "      <td>5000.0</td>\n",
       "      <td>0.997355</td>\n",
       "      <td>1.000000</td>\n",
       "      <td>0.381898</td>\n",
       "      <td>0.696989</td>\n",
       "      <td>0.413355</td>\n",
       "      <td>0.362292</td>\n",
       "      <td>0.138965</td>\n",
       "      <td>0.952140</td>\n",
       "      <td>0.040568</td>\n",
       "      <td>0.761293</td>\n",
       "      <td>0.067697</td>\n",
       "      <td>0.823177</td>\n",
       "      <td>0.806729</td>\n",
       "      <td>0.959155</td>\n",
       "      <td>0.101185</td>\n",
       "      <td>0.182685</td>\n",
       "      <td>0.0</td>\n",
       "    </tr>\n",
       "  </tbody>\n",
       "</table>\n",
       "<p>76264 rows × 18 columns</p>\n",
       "</div>"
      ],
      "text/plain": [
       "       subject   t_start     t_end       X_0       X_1       X_2      X_10  \\\n",
       "0          1.0  0.010000  0.064333  0.152407  0.766206  0.243241  0.964592   \n",
       "1          1.0  0.064333  0.135136  0.308475  0.062914  0.099524  0.368705   \n",
       "2          1.0  0.194810  0.223106  0.614977  0.506616  0.136171  0.702439   \n",
       "3          1.0  0.223106  0.248753  0.614977  0.506616  0.136171  0.702439   \n",
       "4          1.0  0.248753  0.290695  0.879444  0.991845  0.821709  0.598007   \n",
       "...        ...       ...       ...       ...       ...       ...       ...   \n",
       "76259   5000.0  0.795027  0.841729  0.196407  0.025375  0.387692  0.641372   \n",
       "76260   5000.0  0.841729  0.886587  0.196407  0.025375  0.387692  0.641372   \n",
       "76261   5000.0  0.886587  0.949803  0.671227  0.986347  0.972556  0.350481   \n",
       "76262   5000.0  0.991068  0.997355  0.506519  0.931181  0.018766  0.716787   \n",
       "76263   5000.0  0.997355  1.000000  0.381898  0.696989  0.413355  0.362292   \n",
       "\n",
       "           X_11      X_12      X_13      X_14      X_15      X_16      X_17  \\\n",
       "0      0.138555  0.328829  0.677724  0.244175  0.330192  0.748040  0.622986   \n",
       "1      0.801284  0.428748  0.136333  0.260494  0.694811  0.801564  0.445232   \n",
       "2      0.914293  0.376288  0.132540  0.249119  0.478678  0.902935  0.536759   \n",
       "3      0.914293  0.376288  0.132540  0.249119  0.478678  0.902935  0.536759   \n",
       "4      0.562564  0.808424  0.753449  0.205437  0.897105  0.466843  0.518021   \n",
       "...         ...       ...       ...       ...       ...       ...       ...   \n",
       "76259  0.082344  0.852261  0.214533  0.354664  0.220370  0.220250  0.132187   \n",
       "76260  0.082344  0.852261  0.214533  0.354664  0.220370  0.220250  0.132187   \n",
       "76261  0.776933  0.851917  0.763872  0.604797  0.805040  0.838278  0.170575   \n",
       "76262  0.958361  0.158138  0.343687  0.437030  0.220983  0.871205  0.852959   \n",
       "76263  0.138965  0.952140  0.040568  0.761293  0.067697  0.823177  0.806729   \n",
       "\n",
       "           X_18      X_19      X_20  delta  \n",
       "0      0.177698  0.104307  0.243527    0.0  \n",
       "1      0.729579  0.442358  0.930640    0.0  \n",
       "2      0.484972  0.441427  0.099009    1.0  \n",
       "3      0.484972  0.441427  0.099009    0.0  \n",
       "4      0.863728  0.492777  0.921254    0.0  \n",
       "...         ...       ...       ...    ...  \n",
       "76259  0.839544  0.855417  0.202244    1.0  \n",
       "76260  0.839544  0.855417  0.202244    0.0  \n",
       "76261  0.166778  0.682828  0.411376    0.0  \n",
       "76262  0.130933  0.532446  0.690477    0.0  \n",
       "76263  0.959155  0.101185  0.182685    0.0  \n",
       "\n",
       "[76264 rows x 18 columns]"
      ]
     },
     "execution_count": 4,
     "metadata": {},
     "output_type": "execute_result"
    }
   ],
   "source": [
    "data"
   ]
  },
  {
   "cell_type": "markdown",
   "metadata": {},
   "source": [
    "As can be seen above, $t_{start}<t_{end}$ for each epoch (row). Also, the beginning of one epoch starts no earlier than the end of the previous one, i.e. $t_{{end}_{i}}\\leq t_{{start}_{i+1}}$. Delta denotes whether an event (possibly recurrent) occurred at the end of the epoch."
   ]
  },
  {
   "cell_type": "markdown",
   "metadata": {},
   "source": [
    "For covariates with missing values, BoXHED 2.0 implements tree splits of the form\n",
    "\n",
    "Left daughter node: {x<=split.point or x is missing}; Right daughter node: {x>split.point}\n",
    "\n",
    "or\n",
    "\n",
    "Left daughter node: {x<=split.point}; Right daughter node: {x>split.point or x is missing}.\n",
    "\n",
    "Alternatively, the user may choose to impute the missing values, for example by carrying forward the most recent observed value."
   ]
  },
  {
   "cell_type": "markdown",
   "metadata": {},
   "source": [
    "Creating an instance of BoXHED to preprocess the training data. boxhed.preprocess() takes 4 arguments:\n",
    "\n",
    "* *num_quantiles*: the number of candidate split points to try for time and for each covariate. The locations of the split points are based on the quantiles of the training data\n",
    "* *is_cat*: a list of the column indexes that contain categorical data. The categorical data must be one-hot encoded. For example, if a categorical variable with 3 factors is one hot encoded into binary-valued columns 4,5,6, then is_cat = [4,5,6]\n",
    "* *weighted*: if set to True, the locations of the candidate split points will be based on weighted quantiles (see Section 3.3 of the BoXHED 2.0 paper)\n",
    "* *nthreads*: number of CPU threads to use for preprocessing the data\n",
    "\n",
    "Output:\n",
    "\n",
    "* *subject*: subject ID for each row in the data frames X, w, and delta\n",
    "* *X*: each row represents an epoch of the transformed data, and contains the values of the covariates as well as its start time\n",
    "* *w*: Length of each epoch\n",
    "* *delta*: Equals one if an event occurred at the end of the epoch; zero otherwise\n"
   ]
  },
  {
   "cell_type": "code",
   "execution_count": 5,
   "metadata": {},
   "outputs": [],
   "source": [
    "from boxhed import boxhed\n",
    "boxhed_ = boxhed(max_depth    = 1,\n",
    "                 n_estimators = 150)\n",
    "\n",
    "subjects, X, w, delta = boxhed_.preprocess(\n",
    "        data             = data,\n",
    "        num_quantiles    = num_quantiles,\n",
    "        is_cat           = [],\n",
    "        weighted         = False,\n",
    "        nthreads         = 1)"
   ]
  },
  {
   "cell_type": "markdown",
   "metadata": {},
   "source": [
    "Perform *K*-fold cross-validation to choose the hyperparameters {number of boosted trees, tree depth, learning rate}."
   ]
  },
  {
   "cell_type": "markdown",
   "metadata": {},
   "source": [
    "First, specify the candidate values for the hyperparameters to cross-validate on (more trees and/or deeper trees may be needed for other datasets):"
   ]
  },
  {
   "cell_type": "code",
   "execution_count": 6,
   "metadata": {},
   "outputs": [],
   "source": [
    "param_grid = {'max_depth':    [1, 2, 3, 4, 5],\n",
    "              'n_estimators': [50, 100, 150, 200, 250, 300],\n",
    "              'eta':          [0.1]}"
   ]
  },
  {
   "cell_type": "markdown",
   "metadata": {},
   "source": [
    "Next, specify:\n",
    "\n",
    "* The list of GPU IDs to use for training (we set gpu_list to [-1] to use CPU in this tutorial)\n",
    "* Training batch size, which is the maximum number of BoXHED2.0 instances trained at any point in time. If we perform 10-fold cross-validation using the above param_grid, we would need to train $5\\times 6 \\times 10 =300$ instances in total\n",
    "    * When using GPUs, each GPU will train at most batch_size/len(gpu_list) instances at a time\n",
    "    * When gpu_list = [-1], batch_size is the number of CPU threads used, with each one training one instance at a time\n",
    "* The value of *K* in *K*-fold cross-validation"
   ]
  },
  {
   "cell_type": "code",
   "execution_count": 7,
   "metadata": {},
   "outputs": [],
   "source": [
    "gpu_list = [-1]\n",
    "batch_size = 6\n",
    "num_folds = 5"
   ]
  },
  {
   "cell_type": "markdown",
   "metadata": {},
   "source": [
    "Call the *cv* function to perform *K*-fold cross validation on the training set. This outputs the cross validation results for the different hyperparameter combinations\n",
    "* *cv_rslts*: mean and st.dev of the log-likelihood value for each hyperparameter combination\n",
    "* *best_params*: The hyper-parameter combination where the mean log-likelihood value is maximized. *HOWEVER*, we recommend using the one-standard-error rule to select the most parsimonious combination that is within st.dev/$\\sqrt{k}$ of the maximum log-likelihood value ($\\S$7.10 of Hastie et al. (2009))"
   ]
  },
  {
   "cell_type": "markdown",
   "metadata": {},
   "source": [
    "Note: Due to a problem the Jupyter notebook has with the multiprocessing package, the code commented out below should be run as a script outside of Jupyter, for example in Spyder. Here we set the hyperparameters to the combination found using 5-fold cross-validation on the data"
   ]
  },
  {
   "cell_type": "code",
   "execution_count": 8,
   "metadata": {},
   "outputs": [],
   "source": [
    "'''\n",
    "from model_selection import cv\n",
    "cv_rslts, best_params = cv(\n",
    "                          param_grid, \n",
    "                          X, \n",
    "                          w,\n",
    "                          delta,\n",
    "                          subjects, \n",
    "                          num_folds,\n",
    "                          gpu_list,\n",
    "                          batch_size)\n",
    "'''\n",
    "best_params = {'max_depth':    1,\n",
    "              'n_estimators': 150,\n",
    "              'eta':          0.1}"
   ]
  },
  {
   "cell_type": "markdown",
   "metadata": {},
   "source": [
    "Fit BoXHED to the training data:"
   ]
  },
  {
   "cell_type": "code",
   "execution_count": 9,
   "metadata": {},
   "outputs": [
    {
     "data": {
      "text/plain": [
       "boxhed(n_estimators=150)"
      ]
     },
     "execution_count": 9,
     "metadata": {},
     "output_type": "execute_result"
    }
   ],
   "source": [
    "boxhed_.set_params (**best_params)\n",
    "boxhed_.fit (X, delta, w)"
   ]
  },
  {
   "cell_type": "markdown",
   "metadata": {},
   "source": [
    "Load the test set and the values of the true hazard function at the test points:"
   ]
  },
  {
   "cell_type": "code",
   "execution_count": 10,
   "metadata": {},
   "outputs": [],
   "source": [
    "true_haz, test_x = _read_synth_test(exp_num, num_irr) "
   ]
  },
  {
   "cell_type": "markdown",
   "metadata": {},
   "source": [
    "Use the fitted model to estimate the value of the hazard function for each row of the test set:"
   ]
  },
  {
   "cell_type": "code",
   "execution_count": 11,
   "metadata": {},
   "outputs": [],
   "source": [
    "preds = boxhed_.predict(test_x)"
   ]
  },
  {
   "cell_type": "markdown",
   "metadata": {},
   "source": [
    "Compute the RMSE of the estimates, and its 95% confidence interval:"
   ]
  },
  {
   "cell_type": "code",
   "execution_count": 12,
   "metadata": {},
   "outputs": [
    {
     "data": {
      "text/plain": [
       "[0.19378179771296392, [0.19282653084500834, 0.1947370645809195]]"
      ]
     },
     "execution_count": 12,
     "metadata": {},
     "output_type": "execute_result"
    }
   ],
   "source": [
    "from main import calc_L2\n",
    "L2 = calc_L2(preds, true_haz)\n",
    "L2"
   ]
  },
  {
   "cell_type": "code",
   "execution_count": null,
   "metadata": {},
   "outputs": [],
   "source": []
  }
 ],
 "metadata": {
  "kernelspec": {
   "display_name": "Python 3",
   "language": "python",
   "name": "python3"
  },
  "language_info": {
   "codemirror_mode": {
    "name": "ipython",
    "version": 3
   },
   "file_extension": ".py",
   "mimetype": "text/x-python",
   "name": "python",
   "nbconvert_exporter": "python",
   "pygments_lexer": "ipython3",
   "version": "3.8.5"
  }
 },
 "nbformat": 4,
 "nbformat_minor": 2
}
