{
 "cells": [
  {
   "cell_type": "markdown",
   "metadata": {},
   "source": [
    "# BoXHED 2.0 quick start"
   ]
  },
  {
   "cell_type": "markdown",
   "metadata": {},
   "source": [
    "BoXHED 2.0 is a software package for nonparametrically estimating hazard functions via gradient boosting. It extends BoXHED 1.0 whose paper can be found here: [BoXHED: Boosted eXact Hazard Estimator with Dynamic covariates](http://proceedings.mlr.press/v119/wang20o/wang20o.pdf)."
   ]
  },
  {
   "cell_type": "markdown",
   "metadata": {},
   "source": [
    "This section provides a demonstration of applying BoXHED 2.0 to a synthetic data example. "
   ]
  },
  {
   "cell_type": "markdown",
   "metadata": {},
   "source": [
    "### 1. Importing convenience functions from main.py"
   ]
  },
  {
   "cell_type": "markdown",
   "metadata": {},
   "source": [
    "Here we introduce the functions we import from main.py (the script we use for evaluating BoXHED2.0)."
   ]
  },
  {
   "cell_type": "markdown",
   "metadata": {},
   "source": [
    "**_read_synth** reads the synthetic data for training and returns a pandas dataframe.\n",
    "\n",
    "input:\n",
    "* *ind_exp*: hazard function number, based on the paper\n",
    "* *num_irrelevant*: number of irrelevant covariates, 0, 20, or 40\n",
    "\n",
    "output:\n",
    "\n",
    "a pandas data frame consisting of the following columns:\n",
    "* *patient*: the unit number. It starts from 1 to the number of the patients in the datasets.\n",
    "* *t_start*: the start time of the observation\n",
    "* *t_end*: the end time of the observation\n",
    "* *X_i*: other covariates (the name is not important for other covariates)\n",
    "\n",
    "we will see what the input data looks like shortly. "
   ]
  },
  {
   "cell_type": "code",
   "execution_count": 1,
   "metadata": {},
   "outputs": [],
   "source": [
    "from main import _read_synth"
   ]
  },
  {
   "cell_type": "markdown",
   "metadata": {},
   "source": [
    "**_read_synth_test** reads the synthetic data for testing and returns a pandas dataframe as well as true hazard function (for RMSE calculation)\n",
    "\n",
    "input:\n",
    "* *ind_exp*: hazard function number, based on the paper\n",
    "* *num_irrelevant*: number of irrelevant covariates, 0, 20, or 40\n",
    "\n",
    "output:\n",
    "\n",
    "* a numpy array for true hazard function for each row of the test data.\n",
    "* a pandas data frame consisting of the following columns:\n",
    "  * *t_start*: the start time of the observation\n",
    "  * *X_i*: other covariates (the name is not important for other covariates)\n",
    "  \n",
    "we will see what the input data looks like shortly. "
   ]
  },
  {
   "cell_type": "code",
   "execution_count": 2,
   "metadata": {},
   "outputs": [],
   "source": [
    "from main import _read_synth_test"
   ]
  },
  {
   "cell_type": "markdown",
   "metadata": {},
   "source": [
    "**drop_rows** drops rows randomly to introduce censoring. \n",
    "\n",
    "input:\n",
    "* *data*: input data as read by *_read_synth*\n",
    "* *num_irrelevant*: probability of each row staying in the dataset\n",
    "\n",
    "output:\n",
    "* a pandas data frame similar to the input, but probably with fewer rows and disccontinuity in time."
   ]
  },
  {
   "cell_type": "code",
   "execution_count": 3,
   "metadata": {},
   "outputs": [],
   "source": [
    "from main import drop_rows"
   ]
  },
  {
   "cell_type": "markdown",
   "metadata": {},
   "source": [
    "as an example, we select arbitrary values for simulation parameters and train/test BoXHED2.0 using them."
   ]
  },
  {
   "cell_type": "markdown",
   "metadata": {},
   "source": [
    "### 2. Running an example"
   ]
  },
  {
   "cell_type": "markdown",
   "metadata": {},
   "source": [
    "selecting specific simulation parameters:"
   ]
  },
  {
   "cell_type": "code",
   "execution_count": 4,
   "metadata": {},
   "outputs": [],
   "source": [
    "exp_num   = 41  #experiment index. could also be 42, 43, and 44\n",
    "num_irr   = 20  #number of irrelevant features. could also be 0 and 40\n",
    "keep_prob = .8  #1-prob_{dropout}. could be any number in (0,1]\n",
    "num_quant = 256 #number of quantiles. Could be any integer in [8, 256] "
   ]
  },
  {
   "cell_type": "markdown",
   "metadata": {},
   "source": [
    "reading in the data"
   ]
  },
  {
   "cell_type": "code",
   "execution_count": 5,
   "metadata": {},
   "outputs": [],
   "source": [
    "data = _read_synth(exp_num, num_irr)"
   ]
  },
  {
   "cell_type": "markdown",
   "metadata": {},
   "source": [
    "taking a look at the data we have:"
   ]
  },
  {
   "cell_type": "code",
   "execution_count": 7,
   "metadata": {},
   "outputs": [
    {
     "data": {
      "text/html": [
       "<div>\n",
       "<style scoped>\n",
       "    .dataframe tbody tr th:only-of-type {\n",
       "        vertical-align: middle;\n",
       "    }\n",
       "\n",
       "    .dataframe tbody tr th {\n",
       "        vertical-align: top;\n",
       "    }\n",
       "\n",
       "    .dataframe thead th {\n",
       "        text-align: right;\n",
       "    }\n",
       "</style>\n",
       "<table border=\"1\" class=\"dataframe\">\n",
       "  <thead>\n",
       "    <tr style=\"text-align: right;\">\n",
       "      <th></th>\n",
       "      <th>patient</th>\n",
       "      <th>t_start</th>\n",
       "      <th>t_end</th>\n",
       "      <th>X_1</th>\n",
       "      <th>X_2</th>\n",
       "      <th>X_3</th>\n",
       "      <th>X_4</th>\n",
       "      <th>X_5</th>\n",
       "      <th>X_6</th>\n",
       "      <th>X_7</th>\n",
       "      <th>...</th>\n",
       "      <th>X_13</th>\n",
       "      <th>X_14</th>\n",
       "      <th>X_15</th>\n",
       "      <th>X_16</th>\n",
       "      <th>X_17</th>\n",
       "      <th>X_18</th>\n",
       "      <th>X_19</th>\n",
       "      <th>X_20</th>\n",
       "      <th>X_21</th>\n",
       "      <th>delta</th>\n",
       "    </tr>\n",
       "  </thead>\n",
       "  <tbody>\n",
       "    <tr>\n",
       "      <th>0</th>\n",
       "      <td>1</td>\n",
       "      <td>0.010000</td>\n",
       "      <td>0.074706</td>\n",
       "      <td>0.265509</td>\n",
       "      <td>0.372124</td>\n",
       "      <td>0.572853</td>\n",
       "      <td>0.908208</td>\n",
       "      <td>0.201682</td>\n",
       "      <td>0.898390</td>\n",
       "      <td>0.944675</td>\n",
       "      <td>...</td>\n",
       "      <td>0.687023</td>\n",
       "      <td>0.384104</td>\n",
       "      <td>0.769841</td>\n",
       "      <td>0.497699</td>\n",
       "      <td>0.717619</td>\n",
       "      <td>0.991906</td>\n",
       "      <td>0.380035</td>\n",
       "      <td>0.777445</td>\n",
       "      <td>0.934705</td>\n",
       "      <td>0</td>\n",
       "    </tr>\n",
       "    <tr>\n",
       "      <th>1</th>\n",
       "      <td>1</td>\n",
       "      <td>0.074706</td>\n",
       "      <td>0.107241</td>\n",
       "      <td>0.782933</td>\n",
       "      <td>0.553036</td>\n",
       "      <td>0.529720</td>\n",
       "      <td>0.789356</td>\n",
       "      <td>0.023331</td>\n",
       "      <td>0.477230</td>\n",
       "      <td>0.732314</td>\n",
       "      <td>...</td>\n",
       "      <td>0.070679</td>\n",
       "      <td>0.099466</td>\n",
       "      <td>0.316272</td>\n",
       "      <td>0.518634</td>\n",
       "      <td>0.662005</td>\n",
       "      <td>0.406830</td>\n",
       "      <td>0.912876</td>\n",
       "      <td>0.293603</td>\n",
       "      <td>0.459066</td>\n",
       "      <td>0</td>\n",
       "    </tr>\n",
       "    <tr>\n",
       "      <th>2</th>\n",
       "      <td>1</td>\n",
       "      <td>0.107241</td>\n",
       "      <td>0.152631</td>\n",
       "      <td>0.757087</td>\n",
       "      <td>0.202692</td>\n",
       "      <td>0.711121</td>\n",
       "      <td>0.121692</td>\n",
       "      <td>0.245489</td>\n",
       "      <td>0.143304</td>\n",
       "      <td>0.239629</td>\n",
       "      <td>...</td>\n",
       "      <td>0.455274</td>\n",
       "      <td>0.410084</td>\n",
       "      <td>0.810870</td>\n",
       "      <td>0.604933</td>\n",
       "      <td>0.654724</td>\n",
       "      <td>0.353197</td>\n",
       "      <td>0.270260</td>\n",
       "      <td>0.992684</td>\n",
       "      <td>0.633493</td>\n",
       "      <td>0</td>\n",
       "    </tr>\n",
       "    <tr>\n",
       "      <th>3</th>\n",
       "      <td>1</td>\n",
       "      <td>0.152631</td>\n",
       "      <td>0.186180</td>\n",
       "      <td>0.511170</td>\n",
       "      <td>0.207545</td>\n",
       "      <td>0.228658</td>\n",
       "      <td>0.595712</td>\n",
       "      <td>0.574872</td>\n",
       "      <td>0.077064</td>\n",
       "      <td>0.035541</td>\n",
       "      <td>...</td>\n",
       "      <td>0.985095</td>\n",
       "      <td>0.507642</td>\n",
       "      <td>0.682788</td>\n",
       "      <td>0.601541</td>\n",
       "      <td>0.238869</td>\n",
       "      <td>0.258166</td>\n",
       "      <td>0.729310</td>\n",
       "      <td>0.452571</td>\n",
       "      <td>0.175127</td>\n",
       "      <td>0</td>\n",
       "    </tr>\n",
       "    <tr>\n",
       "      <th>4</th>\n",
       "      <td>1</td>\n",
       "      <td>0.186180</td>\n",
       "      <td>0.257973</td>\n",
       "      <td>0.723726</td>\n",
       "      <td>0.337615</td>\n",
       "      <td>0.630414</td>\n",
       "      <td>0.840615</td>\n",
       "      <td>0.856132</td>\n",
       "      <td>0.391359</td>\n",
       "      <td>0.380494</td>\n",
       "      <td>...</td>\n",
       "      <td>0.293730</td>\n",
       "      <td>0.191260</td>\n",
       "      <td>0.886451</td>\n",
       "      <td>0.503339</td>\n",
       "      <td>0.877058</td>\n",
       "      <td>0.189194</td>\n",
       "      <td>0.758103</td>\n",
       "      <td>0.724499</td>\n",
       "      <td>0.943725</td>\n",
       "      <td>0</td>\n",
       "    </tr>\n",
       "    <tr>\n",
       "      <th>...</th>\n",
       "      <td>...</td>\n",
       "      <td>...</td>\n",
       "      <td>...</td>\n",
       "      <td>...</td>\n",
       "      <td>...</td>\n",
       "      <td>...</td>\n",
       "      <td>...</td>\n",
       "      <td>...</td>\n",
       "      <td>...</td>\n",
       "      <td>...</td>\n",
       "      <td>...</td>\n",
       "      <td>...</td>\n",
       "      <td>...</td>\n",
       "      <td>...</td>\n",
       "      <td>...</td>\n",
       "      <td>...</td>\n",
       "      <td>...</td>\n",
       "      <td>...</td>\n",
       "      <td>...</td>\n",
       "      <td>...</td>\n",
       "      <td>...</td>\n",
       "    </tr>\n",
       "    <tr>\n",
       "      <th>66924</th>\n",
       "      <td>5000</td>\n",
       "      <td>0.762821</td>\n",
       "      <td>0.827155</td>\n",
       "      <td>0.728067</td>\n",
       "      <td>0.899735</td>\n",
       "      <td>0.727782</td>\n",
       "      <td>0.268609</td>\n",
       "      <td>0.378633</td>\n",
       "      <td>0.526506</td>\n",
       "      <td>0.972564</td>\n",
       "      <td>...</td>\n",
       "      <td>0.714576</td>\n",
       "      <td>0.628564</td>\n",
       "      <td>0.519994</td>\n",
       "      <td>0.974485</td>\n",
       "      <td>0.570136</td>\n",
       "      <td>0.464748</td>\n",
       "      <td>0.581276</td>\n",
       "      <td>0.695218</td>\n",
       "      <td>0.103566</td>\n",
       "      <td>0</td>\n",
       "    </tr>\n",
       "    <tr>\n",
       "      <th>66925</th>\n",
       "      <td>5000</td>\n",
       "      <td>0.827155</td>\n",
       "      <td>0.851700</td>\n",
       "      <td>0.699792</td>\n",
       "      <td>0.211259</td>\n",
       "      <td>0.008285</td>\n",
       "      <td>0.327462</td>\n",
       "      <td>0.884665</td>\n",
       "      <td>0.940388</td>\n",
       "      <td>0.083020</td>\n",
       "      <td>...</td>\n",
       "      <td>0.440402</td>\n",
       "      <td>0.065167</td>\n",
       "      <td>0.729235</td>\n",
       "      <td>0.211562</td>\n",
       "      <td>0.665426</td>\n",
       "      <td>0.117271</td>\n",
       "      <td>0.376724</td>\n",
       "      <td>0.613720</td>\n",
       "      <td>0.572595</td>\n",
       "      <td>0</td>\n",
       "    </tr>\n",
       "    <tr>\n",
       "      <th>66926</th>\n",
       "      <td>5000</td>\n",
       "      <td>0.851700</td>\n",
       "      <td>0.855931</td>\n",
       "      <td>0.201042</td>\n",
       "      <td>0.138092</td>\n",
       "      <td>0.811001</td>\n",
       "      <td>0.271753</td>\n",
       "      <td>0.091299</td>\n",
       "      <td>0.234880</td>\n",
       "      <td>0.031343</td>\n",
       "      <td>...</td>\n",
       "      <td>0.763636</td>\n",
       "      <td>0.883953</td>\n",
       "      <td>0.758610</td>\n",
       "      <td>0.618501</td>\n",
       "      <td>0.473183</td>\n",
       "      <td>0.212099</td>\n",
       "      <td>0.933392</td>\n",
       "      <td>0.480001</td>\n",
       "      <td>0.970905</td>\n",
       "      <td>0</td>\n",
       "    </tr>\n",
       "    <tr>\n",
       "      <th>66927</th>\n",
       "      <td>5000</td>\n",
       "      <td>0.855931</td>\n",
       "      <td>0.943535</td>\n",
       "      <td>0.561700</td>\n",
       "      <td>0.723730</td>\n",
       "      <td>0.008085</td>\n",
       "      <td>0.392067</td>\n",
       "      <td>0.128992</td>\n",
       "      <td>0.192462</td>\n",
       "      <td>0.098971</td>\n",
       "      <td>...</td>\n",
       "      <td>0.690258</td>\n",
       "      <td>0.608737</td>\n",
       "      <td>0.007401</td>\n",
       "      <td>0.707869</td>\n",
       "      <td>0.291385</td>\n",
       "      <td>0.873829</td>\n",
       "      <td>0.948604</td>\n",
       "      <td>0.924394</td>\n",
       "      <td>0.886101</td>\n",
       "      <td>0</td>\n",
       "    </tr>\n",
       "    <tr>\n",
       "      <th>66928</th>\n",
       "      <td>5000</td>\n",
       "      <td>0.943535</td>\n",
       "      <td>1.000000</td>\n",
       "      <td>0.480148</td>\n",
       "      <td>0.743737</td>\n",
       "      <td>0.710742</td>\n",
       "      <td>0.646829</td>\n",
       "      <td>0.959274</td>\n",
       "      <td>0.095662</td>\n",
       "      <td>0.946896</td>\n",
       "      <td>...</td>\n",
       "      <td>0.485979</td>\n",
       "      <td>0.831912</td>\n",
       "      <td>0.334038</td>\n",
       "      <td>0.897458</td>\n",
       "      <td>0.488242</td>\n",
       "      <td>0.648235</td>\n",
       "      <td>0.834875</td>\n",
       "      <td>0.708672</td>\n",
       "      <td>0.248909</td>\n",
       "      <td>0</td>\n",
       "    </tr>\n",
       "  </tbody>\n",
       "</table>\n",
       "<p>66929 rows × 25 columns</p>\n",
       "</div>"
      ],
      "text/plain": [
       "       patient   t_start     t_end       X_1       X_2       X_3       X_4  \\\n",
       "0            1  0.010000  0.074706  0.265509  0.372124  0.572853  0.908208   \n",
       "1            1  0.074706  0.107241  0.782933  0.553036  0.529720  0.789356   \n",
       "2            1  0.107241  0.152631  0.757087  0.202692  0.711121  0.121692   \n",
       "3            1  0.152631  0.186180  0.511170  0.207545  0.228658  0.595712   \n",
       "4            1  0.186180  0.257973  0.723726  0.337615  0.630414  0.840615   \n",
       "...        ...       ...       ...       ...       ...       ...       ...   \n",
       "66924     5000  0.762821  0.827155  0.728067  0.899735  0.727782  0.268609   \n",
       "66925     5000  0.827155  0.851700  0.699792  0.211259  0.008285  0.327462   \n",
       "66926     5000  0.851700  0.855931  0.201042  0.138092  0.811001  0.271753   \n",
       "66927     5000  0.855931  0.943535  0.561700  0.723730  0.008085  0.392067   \n",
       "66928     5000  0.943535  1.000000  0.480148  0.743737  0.710742  0.646829   \n",
       "\n",
       "            X_5       X_6       X_7  ...      X_13      X_14      X_15  \\\n",
       "0      0.201682  0.898390  0.944675  ...  0.687023  0.384104  0.769841   \n",
       "1      0.023331  0.477230  0.732314  ...  0.070679  0.099466  0.316272   \n",
       "2      0.245489  0.143304  0.239629  ...  0.455274  0.410084  0.810870   \n",
       "3      0.574872  0.077064  0.035541  ...  0.985095  0.507642  0.682788   \n",
       "4      0.856132  0.391359  0.380494  ...  0.293730  0.191260  0.886451   \n",
       "...         ...       ...       ...  ...       ...       ...       ...   \n",
       "66924  0.378633  0.526506  0.972564  ...  0.714576  0.628564  0.519994   \n",
       "66925  0.884665  0.940388  0.083020  ...  0.440402  0.065167  0.729235   \n",
       "66926  0.091299  0.234880  0.031343  ...  0.763636  0.883953  0.758610   \n",
       "66927  0.128992  0.192462  0.098971  ...  0.690258  0.608737  0.007401   \n",
       "66928  0.959274  0.095662  0.946896  ...  0.485979  0.831912  0.334038   \n",
       "\n",
       "           X_16      X_17      X_18      X_19      X_20      X_21  delta  \n",
       "0      0.497699  0.717619  0.991906  0.380035  0.777445  0.934705      0  \n",
       "1      0.518634  0.662005  0.406830  0.912876  0.293603  0.459066      0  \n",
       "2      0.604933  0.654724  0.353197  0.270260  0.992684  0.633493      0  \n",
       "3      0.601541  0.238869  0.258166  0.729310  0.452571  0.175127      0  \n",
       "4      0.503339  0.877058  0.189194  0.758103  0.724499  0.943725      0  \n",
       "...         ...       ...       ...       ...       ...       ...    ...  \n",
       "66924  0.974485  0.570136  0.464748  0.581276  0.695218  0.103566      0  \n",
       "66925  0.211562  0.665426  0.117271  0.376724  0.613720  0.572595      0  \n",
       "66926  0.618501  0.473183  0.212099  0.933392  0.480001  0.970905      0  \n",
       "66927  0.707869  0.291385  0.873829  0.948604  0.924394  0.886101      0  \n",
       "66928  0.897458  0.488242  0.648235  0.834875  0.708672  0.248909      0  \n",
       "\n",
       "[66929 rows x 25 columns]"
      ]
     },
     "execution_count": 7,
     "metadata": {},
     "output_type": "execute_result"
    }
   ],
   "source": [
    "data"
   ]
  },
  {
   "cell_type": "markdown",
   "metadata": {},
   "source": [
    "as can be seen above, patients are numbered from 1 to N. We also have $t_{start}<t_{end}$ for each trajectory. Also, $t_{{end}_{i}}\\leq t_{{start}_{i+1}}$. Delta denotes whether that specific trajectory has resulted in observing the event of interest or not. All the other columns are covariates."
   ]
  },
  {
   "cell_type": "markdown",
   "metadata": {},
   "source": [
    "importing the BoXHED model: (for simplicity we have omitted hyper-parameter tuning, but it is implemented in *main.py*)"
   ]
  },
  {
   "cell_type": "code",
   "execution_count": 8,
   "metadata": {},
   "outputs": [],
   "source": [
    "from boxhed import boxhed\n",
    "boxhed_ = boxhed(max_depth    = 1,\n",
    "                 n_estimators = 150)"
   ]
  },
  {
   "cell_type": "markdown",
   "metadata": {},
   "source": [
    "now we call the preprocessor on the input data:"
   ]
  },
  {
   "cell_type": "code",
   "execution_count": 9,
   "metadata": {},
   "outputs": [],
   "source": [
    "subjects, X, w, delta = boxhed_.preprocess(\n",
    "        data             = data,\n",
    "        quant_per_column = num_quant,\n",
    "        weighted         = True,\n",
    "        nthreads         = 1)"
   ]
  },
  {
   "cell_type": "markdown",
   "metadata": {},
   "source": [
    "boxhed.preprocess has 4 inputs. The only one needing clarification is a boolean *weighted* which decides whether the quantiles are weighted in training or no.\n",
    "\n",
    "It also has 3 outputs:\n",
    "* *subjects*: patients for each row of *X* and *y*.\n",
    "* *X*: input covariates as fed to BoXHED 2.0. It consists of covariates as well as *t_start*\n",
    "* *w*: duration of each trajectory\n",
    "* *delta*: denotes whether the event of interest has happened at the end of the trajectory or not."
   ]
  },
  {
   "cell_type": "markdown",
   "metadata": {},
   "source": [
    "fitting a BoXHED model would look like:"
   ]
  },
  {
   "cell_type": "code",
   "execution_count": 10,
   "metadata": {},
   "outputs": [
    {
     "data": {
      "text/plain": [
       "boxhed(n_estimators=150)"
      ]
     },
     "execution_count": 10,
     "metadata": {},
     "output_type": "execute_result"
    }
   ],
   "source": [
    "boxhed_.fit (X, delta, w)"
   ]
  },
  {
   "cell_type": "markdown",
   "metadata": {},
   "source": [
    "we now read the test set and its corresponding true hazard value:"
   ]
  },
  {
   "cell_type": "code",
   "execution_count": 11,
   "metadata": {},
   "outputs": [],
   "source": [
    "true_haz, test_x = _read_synth_test(exp_num, num_irr) "
   ]
  },
  {
   "cell_type": "markdown",
   "metadata": {},
   "source": [
    "making a prediction on the test set:"
   ]
  },
  {
   "cell_type": "code",
   "execution_count": 12,
   "metadata": {},
   "outputs": [],
   "source": [
    "preds = boxhed_.predict(test_x)"
   ]
  },
  {
   "cell_type": "markdown",
   "metadata": {},
   "source": [
    "we now measure the RMSE by:"
   ]
  },
  {
   "cell_type": "code",
   "execution_count": 13,
   "metadata": {},
   "outputs": [],
   "source": [
    "from main import calc_L2\n",
    "L2 = calc_L2(preds, true_haz)"
   ]
  },
  {
   "cell_type": "markdown",
   "metadata": {},
   "source": [
    "the point estimate along with the CI is as follows:"
   ]
  },
  {
   "cell_type": "code",
   "execution_count": 14,
   "metadata": {},
   "outputs": [
    {
     "data": {
      "text/plain": [
       "[0.1752634914366061, [0.17166798400756458, 0.17885899886564763]]"
      ]
     },
     "execution_count": 14,
     "metadata": {},
     "output_type": "execute_result"
    }
   ],
   "source": [
    "L2"
   ]
  },
  {
   "cell_type": "code",
   "execution_count": null,
   "metadata": {},
   "outputs": [],
   "source": []
  }
 ],
 "metadata": {
  "kernelspec": {
   "display_name": "Python 3",
   "language": "python",
   "name": "python3"
  },
  "language_info": {
   "codemirror_mode": {
    "name": "ipython",
    "version": 3
   },
   "file_extension": ".py",
   "mimetype": "text/x-python",
   "name": "python",
   "nbconvert_exporter": "python",
   "pygments_lexer": "ipython3",
   "version": "3.8.8"
  }
 },
 "nbformat": 4,
 "nbformat_minor": 2
}
