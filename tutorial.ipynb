{
 "cells": [
  {
   "cell_type": "markdown",
   "metadata": {},
   "source": [
    "# BoXHED 2.0 quick start"
   ]
  },
  {
   "cell_type": "markdown",
   "metadata": {},
   "source": [
    "[BoXHED 2.0](https://arxiv.org/pdf/2103.12591.pdf) is a software package for estimating hazard functions nonparametrically via gradient boosting. It dramatically improves upon BoXHED 1.0 [BoXHED: Boosted eXact Hazard Estimator with Dynamic covariates](http://proceedings.mlr.press/v119/wang20o/wang20o.pdf) in speed. BoXHED 2.0 also allows for more general forms of survival data including recurrent events."
   ]
  },
  {
   "cell_type": "markdown",
   "metadata": {},
   "source": [
    "This tutorial demonstrates how to apply BoXHED 2.0 to a synthetic dataset. An expanded user's guide can be found in main.py."
   ]
  },
  {
   "cell_type": "markdown",
   "metadata": {},
   "source": [
    "### 1. Importing convenience functions from main.py"
   ]
  },
  {
   "cell_type": "markdown",
   "metadata": {},
   "source": [
    "**_read_synth** reads the synthetic training data and returns a pandas dataframe.\n",
    "\n",
    "Input:\n",
    "* *exp_num*: index for the simulated dataset used in Section 5.3 of the BoXHED 1.0 paper (1, 2, 3, or 4)\n",
    "* *num_irr*: number of irrelevant covariates used in the simulation (0, 20, or 40)\n",
    "\n",
    "Output:\n",
    "\n",
    "A pandas data frame with the following columns:\n",
    "* *subject*: subject ID\n",
    "* *t_start*: the start time of an epoch for the patient\n",
    "* *t_end*: the end time of the epoch\n",
    "* *X_i*: Values of covariates between *t_start* and *t_end* \n",
    "\n",
    "We will see what the input data looks like below"
   ]
  },
  {
   "cell_type": "code",
   "execution_count": 1,
   "metadata": {},
   "outputs": [],
   "source": [
    "from main import _read_synth"
   ]
  },
  {
   "cell_type": "markdown",
   "metadata": {},
   "source": [
    "**_read_synth_test** reads the synthetic test data and returns a pandas dataframe. The values of the true hazard function are also provided for accuracy comparisons\n",
    "\n",
    "Input:\n",
    "* *exp_num*: index for the simulated dataset used in Section 5.3 of the BoXHED 1.0 paper (1, 2, 3, or 4)\n",
    "* *num_irr*: number of irrelevant covariates used in the simulation (0, 20, or 40)\n",
    "\n",
    "Output:\n",
    "\n",
    "* a pandas data frame with the following columns:\n",
    "  * *t*: time\n",
    "  * *X_i*: covariate values at time *t*\n",
    "* a numpy array containing the values of the true hazard function for each row above\n"
   ]
  },
  {
   "cell_type": "code",
   "execution_count": 2,
   "metadata": {},
   "outputs": [],
   "source": [
    "from main import _read_synth_test"
   ]
  },
  {
   "cell_type": "markdown",
   "metadata": {},
   "source": [
    "### 2. Running an example"
   ]
  },
  {
   "cell_type": "code",
   "execution_count": 3,
   "metadata": {},
   "outputs": [],
   "source": [
    "exp_num       = 1  \n",
    "num_irr       = 20  \n",
    "num_quantiles = 256 #number of candidate split points (locations based on quantiles). Integer from 8 to 256\n",
    "\n",
    "data = _read_synth(exp_num, num_irr)"
   ]
  },
  {
   "cell_type": "code",
   "execution_count": 4,
   "metadata": {
    "scrolled": true
   },
   "outputs": [
    {
     "data": {
      "text/html": [
       "<div>\n",
       "<style scoped>\n",
       "    .dataframe tbody tr th:only-of-type {\n",
       "        vertical-align: middle;\n",
       "    }\n",
       "\n",
       "    .dataframe tbody tr th {\n",
       "        vertical-align: top;\n",
       "    }\n",
       "\n",
       "    .dataframe thead th {\n",
       "        text-align: right;\n",
       "    }\n",
       "</style>\n",
       "<table border=\"1\" class=\"dataframe\">\n",
       "  <thead>\n",
       "    <tr style=\"text-align: right;\">\n",
       "      <th></th>\n",
       "      <th>subject</th>\n",
       "      <th>t_start</th>\n",
       "      <th>t_end</th>\n",
       "      <th>X_0</th>\n",
       "      <th>X_1</th>\n",
       "      <th>X_2</th>\n",
       "      <th>X_10</th>\n",
       "      <th>X_11</th>\n",
       "      <th>X_12</th>\n",
       "      <th>X_13</th>\n",
       "      <th>X_14</th>\n",
       "      <th>X_15</th>\n",
       "      <th>X_16</th>\n",
       "      <th>X_17</th>\n",
       "      <th>X_18</th>\n",
       "      <th>X_19</th>\n",
       "      <th>X_20</th>\n",
       "      <th>delta</th>\n",
       "    </tr>\n",
       "  </thead>\n",
       "  <tbody>\n",
       "    <tr>\n",
       "      <th>0</th>\n",
       "      <td>1.0</td>\n",
       "      <td>0.010000</td>\n",
       "      <td>0.064333</td>\n",
       "      <td>0.050506</td>\n",
       "      <td>0.193469</td>\n",
       "      <td>0.231674</td>\n",
       "      <td>0.993083</td>\n",
       "      <td>0.851162</td>\n",
       "      <td>0.584319</td>\n",
       "      <td>0.800345</td>\n",
       "      <td>0.723247</td>\n",
       "      <td>0.811566</td>\n",
       "      <td>0.030053</td>\n",
       "      <td>0.889275</td>\n",
       "      <td>0.055881</td>\n",
       "      <td>0.251012</td>\n",
       "      <td>0.344169</td>\n",
       "      <td>0.0</td>\n",
       "    </tr>\n",
       "    <tr>\n",
       "      <th>1</th>\n",
       "      <td>1.0</td>\n",
       "      <td>0.248753</td>\n",
       "      <td>0.290695</td>\n",
       "      <td>0.674304</td>\n",
       "      <td>0.153427</td>\n",
       "      <td>0.613957</td>\n",
       "      <td>0.335642</td>\n",
       "      <td>0.273510</td>\n",
       "      <td>0.477107</td>\n",
       "      <td>0.583808</td>\n",
       "      <td>0.122043</td>\n",
       "      <td>0.599093</td>\n",
       "      <td>0.056954</td>\n",
       "      <td>0.443361</td>\n",
       "      <td>0.643540</td>\n",
       "      <td>0.822579</td>\n",
       "      <td>0.658943</td>\n",
       "      <td>0.0</td>\n",
       "    </tr>\n",
       "    <tr>\n",
       "      <th>2</th>\n",
       "      <td>1.0</td>\n",
       "      <td>0.397960</td>\n",
       "      <td>0.486245</td>\n",
       "      <td>0.687868</td>\n",
       "      <td>0.694016</td>\n",
       "      <td>0.106414</td>\n",
       "      <td>0.274077</td>\n",
       "      <td>0.884433</td>\n",
       "      <td>0.993644</td>\n",
       "      <td>0.880787</td>\n",
       "      <td>0.169948</td>\n",
       "      <td>0.929970</td>\n",
       "      <td>0.649238</td>\n",
       "      <td>0.573877</td>\n",
       "      <td>0.270658</td>\n",
       "      <td>0.098607</td>\n",
       "      <td>0.523562</td>\n",
       "      <td>0.0</td>\n",
       "    </tr>\n",
       "    <tr>\n",
       "      <th>3</th>\n",
       "      <td>1.0</td>\n",
       "      <td>0.486245</td>\n",
       "      <td>0.581648</td>\n",
       "      <td>0.249621</td>\n",
       "      <td>0.922289</td>\n",
       "      <td>0.552174</td>\n",
       "      <td>0.610659</td>\n",
       "      <td>0.336085</td>\n",
       "      <td>0.873602</td>\n",
       "      <td>0.422952</td>\n",
       "      <td>0.551589</td>\n",
       "      <td>0.677242</td>\n",
       "      <td>0.763526</td>\n",
       "      <td>0.323687</td>\n",
       "      <td>0.239204</td>\n",
       "      <td>0.044840</td>\n",
       "      <td>0.859324</td>\n",
       "      <td>0.0</td>\n",
       "    </tr>\n",
       "    <tr>\n",
       "      <th>4</th>\n",
       "      <td>1.0</td>\n",
       "      <td>0.619609</td>\n",
       "      <td>0.697989</td>\n",
       "      <td>0.620007</td>\n",
       "      <td>0.757853</td>\n",
       "      <td>0.943695</td>\n",
       "      <td>0.579399</td>\n",
       "      <td>0.457101</td>\n",
       "      <td>0.028805</td>\n",
       "      <td>0.339405</td>\n",
       "      <td>0.905926</td>\n",
       "      <td>0.414710</td>\n",
       "      <td>0.446436</td>\n",
       "      <td>0.151682</td>\n",
       "      <td>0.964303</td>\n",
       "      <td>0.456121</td>\n",
       "      <td>0.844170</td>\n",
       "      <td>0.0</td>\n",
       "    </tr>\n",
       "    <tr>\n",
       "      <th>...</th>\n",
       "      <td>...</td>\n",
       "      <td>...</td>\n",
       "      <td>...</td>\n",
       "      <td>...</td>\n",
       "      <td>...</td>\n",
       "      <td>...</td>\n",
       "      <td>...</td>\n",
       "      <td>...</td>\n",
       "      <td>...</td>\n",
       "      <td>...</td>\n",
       "      <td>...</td>\n",
       "      <td>...</td>\n",
       "      <td>...</td>\n",
       "      <td>...</td>\n",
       "      <td>...</td>\n",
       "      <td>...</td>\n",
       "      <td>...</td>\n",
       "      <td>...</td>\n",
       "    </tr>\n",
       "    <tr>\n",
       "      <th>151723</th>\n",
       "      <td>10000.0</td>\n",
       "      <td>0.535025</td>\n",
       "      <td>0.605529</td>\n",
       "      <td>0.615905</td>\n",
       "      <td>0.403731</td>\n",
       "      <td>0.070243</td>\n",
       "      <td>0.150162</td>\n",
       "      <td>0.144327</td>\n",
       "      <td>0.468761</td>\n",
       "      <td>0.654210</td>\n",
       "      <td>0.126190</td>\n",
       "      <td>0.397139</td>\n",
       "      <td>0.043732</td>\n",
       "      <td>0.985513</td>\n",
       "      <td>0.243602</td>\n",
       "      <td>0.307620</td>\n",
       "      <td>0.291985</td>\n",
       "      <td>0.0</td>\n",
       "    </tr>\n",
       "    <tr>\n",
       "      <th>151724</th>\n",
       "      <td>10000.0</td>\n",
       "      <td>0.605529</td>\n",
       "      <td>0.613142</td>\n",
       "      <td>0.618893</td>\n",
       "      <td>0.032322</td>\n",
       "      <td>0.588856</td>\n",
       "      <td>0.117638</td>\n",
       "      <td>0.915837</td>\n",
       "      <td>0.961482</td>\n",
       "      <td>0.240125</td>\n",
       "      <td>0.247604</td>\n",
       "      <td>0.441394</td>\n",
       "      <td>0.070356</td>\n",
       "      <td>0.944886</td>\n",
       "      <td>0.061320</td>\n",
       "      <td>0.583212</td>\n",
       "      <td>0.907586</td>\n",
       "      <td>0.0</td>\n",
       "    </tr>\n",
       "    <tr>\n",
       "      <th>151725</th>\n",
       "      <td>10000.0</td>\n",
       "      <td>0.641568</td>\n",
       "      <td>0.641644</td>\n",
       "      <td>0.180398</td>\n",
       "      <td>0.952714</td>\n",
       "      <td>0.123855</td>\n",
       "      <td>0.848981</td>\n",
       "      <td>0.520086</td>\n",
       "      <td>0.648340</td>\n",
       "      <td>0.398978</td>\n",
       "      <td>0.359882</td>\n",
       "      <td>0.265750</td>\n",
       "      <td>0.545727</td>\n",
       "      <td>0.924673</td>\n",
       "      <td>0.977790</td>\n",
       "      <td>0.850796</td>\n",
       "      <td>0.807079</td>\n",
       "      <td>0.0</td>\n",
       "    </tr>\n",
       "    <tr>\n",
       "      <th>151726</th>\n",
       "      <td>10000.0</td>\n",
       "      <td>0.680901</td>\n",
       "      <td>0.764474</td>\n",
       "      <td>0.463660</td>\n",
       "      <td>0.791878</td>\n",
       "      <td>0.854197</td>\n",
       "      <td>0.067081</td>\n",
       "      <td>0.182357</td>\n",
       "      <td>0.598972</td>\n",
       "      <td>0.036312</td>\n",
       "      <td>0.551359</td>\n",
       "      <td>0.858578</td>\n",
       "      <td>0.270542</td>\n",
       "      <td>0.247971</td>\n",
       "      <td>0.232599</td>\n",
       "      <td>0.361775</td>\n",
       "      <td>0.129630</td>\n",
       "      <td>0.0</td>\n",
       "    </tr>\n",
       "    <tr>\n",
       "      <th>151727</th>\n",
       "      <td>10000.0</td>\n",
       "      <td>0.951349</td>\n",
       "      <td>0.984653</td>\n",
       "      <td>0.573037</td>\n",
       "      <td>0.093959</td>\n",
       "      <td>0.211000</td>\n",
       "      <td>0.293176</td>\n",
       "      <td>0.907336</td>\n",
       "      <td>0.190622</td>\n",
       "      <td>0.122002</td>\n",
       "      <td>0.241941</td>\n",
       "      <td>0.710167</td>\n",
       "      <td>0.832782</td>\n",
       "      <td>0.404181</td>\n",
       "      <td>0.921992</td>\n",
       "      <td>0.543576</td>\n",
       "      <td>0.921749</td>\n",
       "      <td>0.0</td>\n",
       "    </tr>\n",
       "  </tbody>\n",
       "</table>\n",
       "<p>151728 rows × 18 columns</p>\n",
       "</div>"
      ],
      "text/plain": [
       "        subject   t_start     t_end       X_0       X_1       X_2      X_10  \\\n",
       "0           1.0  0.010000  0.064333  0.050506  0.193469  0.231674  0.993083   \n",
       "1           1.0  0.248753  0.290695  0.674304  0.153427  0.613957  0.335642   \n",
       "2           1.0  0.397960  0.486245  0.687868  0.694016  0.106414  0.274077   \n",
       "3           1.0  0.486245  0.581648  0.249621  0.922289  0.552174  0.610659   \n",
       "4           1.0  0.619609  0.697989  0.620007  0.757853  0.943695  0.579399   \n",
       "...         ...       ...       ...       ...       ...       ...       ...   \n",
       "151723  10000.0  0.535025  0.605529  0.615905  0.403731  0.070243  0.150162   \n",
       "151724  10000.0  0.605529  0.613142  0.618893  0.032322  0.588856  0.117638   \n",
       "151725  10000.0  0.641568  0.641644  0.180398  0.952714  0.123855  0.848981   \n",
       "151726  10000.0  0.680901  0.764474  0.463660  0.791878  0.854197  0.067081   \n",
       "151727  10000.0  0.951349  0.984653  0.573037  0.093959  0.211000  0.293176   \n",
       "\n",
       "            X_11      X_12      X_13      X_14      X_15      X_16      X_17  \\\n",
       "0       0.851162  0.584319  0.800345  0.723247  0.811566  0.030053  0.889275   \n",
       "1       0.273510  0.477107  0.583808  0.122043  0.599093  0.056954  0.443361   \n",
       "2       0.884433  0.993644  0.880787  0.169948  0.929970  0.649238  0.573877   \n",
       "3       0.336085  0.873602  0.422952  0.551589  0.677242  0.763526  0.323687   \n",
       "4       0.457101  0.028805  0.339405  0.905926  0.414710  0.446436  0.151682   \n",
       "...          ...       ...       ...       ...       ...       ...       ...   \n",
       "151723  0.144327  0.468761  0.654210  0.126190  0.397139  0.043732  0.985513   \n",
       "151724  0.915837  0.961482  0.240125  0.247604  0.441394  0.070356  0.944886   \n",
       "151725  0.520086  0.648340  0.398978  0.359882  0.265750  0.545727  0.924673   \n",
       "151726  0.182357  0.598972  0.036312  0.551359  0.858578  0.270542  0.247971   \n",
       "151727  0.907336  0.190622  0.122002  0.241941  0.710167  0.832782  0.404181   \n",
       "\n",
       "            X_18      X_19      X_20  delta  \n",
       "0       0.055881  0.251012  0.344169    0.0  \n",
       "1       0.643540  0.822579  0.658943    0.0  \n",
       "2       0.270658  0.098607  0.523562    0.0  \n",
       "3       0.239204  0.044840  0.859324    0.0  \n",
       "4       0.964303  0.456121  0.844170    0.0  \n",
       "...          ...       ...       ...    ...  \n",
       "151723  0.243602  0.307620  0.291985    0.0  \n",
       "151724  0.061320  0.583212  0.907586    0.0  \n",
       "151725  0.977790  0.850796  0.807079    0.0  \n",
       "151726  0.232599  0.361775  0.129630    0.0  \n",
       "151727  0.921992  0.543576  0.921749    0.0  \n",
       "\n",
       "[151728 rows x 18 columns]"
      ]
     },
     "execution_count": 4,
     "metadata": {},
     "output_type": "execute_result"
    }
   ],
   "source": [
    "data"
   ]
  },
  {
   "cell_type": "markdown",
   "metadata": {},
   "source": [
    "As can be seen above, $t_{start}<t_{end}$ for each epoch (row). Also, the beginning of one epoch starts no earlier than the end of the previous one, i.e. $t_{{end}_{i}}\\leq t_{{start}_{i+1}}$. Delta denotes whether an event (possibly recurrent) occurred at the end of the epoch."
   ]
  },
  {
   "cell_type": "markdown",
   "metadata": {},
   "source": [
    "For covariates with missing values, BoXHED 2.0 implements tree splits of the form\n",
    "\n",
    "Left daughter node: {x<=split.point or x is missing}; Right daughter node: {x>split.point}\n",
    "\n",
    "or\n",
    "\n",
    "Left daughter node: {x<=split.point}; Right daughter node: {x>split.point or x is missing}.\n",
    "\n",
    "Alternatively, the user may choose to impute the missing values, for example by carrying forward the most recent observed value."
   ]
  },
  {
   "cell_type": "markdown",
   "metadata": {},
   "source": [
    "Creating an instance of BoXHED to preprocess the training data. boxhed.preprocess() takes 4 arguments:\n",
    "\n",
    "* *num_quantiles*: the number of candidate split points to try for time and for each covariate. The locations of the split points are based on the quantiles of the training data\n",
    "* *is_cat*: a list of the column indexes that contain categorical data. The categorical data must be one-hot encoded. For example, if a categorical variable with 3 factors is one hot encoded into binary-valued columns 4,5,6, then is_cat = [4,5,6]\n",
    "* *weighted*: if set to True, the locations of the candidate split points will be based on weighted quantiles (see Section 3.3 of the BoXHED 2.0 paper)\n",
    "* *nthreads*: number of CPU threads to use for preprocessing the data\n",
    "\n",
    "Output:\n",
    "\n",
    "* *subject*: subject ID for each row in the data frames X, w, and delta\n",
    "* *X*: each row represents an epoch of the transformed data, and contains the values of the covariates as well as its start time\n",
    "* *w*: Length of each epoch\n",
    "* *delta*: Equals one if an event occurred at the end of the epoch; zero otherwise\n"
   ]
  },
  {
   "cell_type": "code",
   "execution_count": 5,
   "metadata": {},
   "outputs": [],
   "source": [
    "from boxhed import boxhed\n",
    "boxhed_ = boxhed(max_depth    = 1,\n",
    "                 n_estimators = 150)\n",
    "\n",
    "subjects, X, w, delta = boxhed_.preprocess(\n",
    "        data             = data,\n",
    "        num_quantiles    = num_quantiles,\n",
    "        is_cat           = [],\n",
    "        weighted         = False,\n",
    "        nthreads         = 1)"
   ]
  },
  {
   "cell_type": "markdown",
   "metadata": {},
   "source": [
    "Perform *K*-fold cross-validation to choose the hyperparameters {number of boosted trees, tree depth, learning rate}."
   ]
  },
  {
   "cell_type": "markdown",
   "metadata": {},
   "source": [
    "First, specify the candidate values for the hyperparameters to cross-validate on (more trees and/or deeper trees may be needed for other datasets):"
   ]
  },
  {
   "cell_type": "code",
   "execution_count": 6,
   "metadata": {},
   "outputs": [],
   "source": [
    "param_grid = {'max_depth':    [1, 2, 3, 4, 5],\n",
    "              'n_estimators': [50, 100, 150, 200, 250, 300],\n",
    "              'eta':          [0.1, 0.3]}"
   ]
  },
  {
   "cell_type": "markdown",
   "metadata": {},
   "source": [
    "Next, specify:\n",
    "\n",
    "* The list of GPU IDs to use for training (we set gpu_list to [-1] to use CPU in this tutorial)\n",
    "* Training batch size, which is the maximum number of BoXHED2.0 instances trained at any point in time. If we perform 10-fold cross-validation using the above param_grid, we would need to train $5\\times 6 \\times 10 =300$ instances in total\n",
    "    * When using GPUs, each GPU will train at most batch_size/len(gpu_list) instances at a time\n",
    "    * When gpu_list = [-1], batch_size is the number of CPU threads used, with each one training one instance at a time\n",
    "* The value of *K* in *K*-fold cross-validation"
   ]
  },
  {
   "cell_type": "code",
   "execution_count": 7,
   "metadata": {},
   "outputs": [],
   "source": [
    "gpu_list = [-1]\n",
    "batch_size = 6\n",
    "num_folds = 5"
   ]
  },
  {
   "cell_type": "markdown",
   "metadata": {},
   "source": [
    "Call the *cv* function to perform *K*-fold cross validation on the training set. This outputs the cross validation results for the different hyperparameter combinations\n",
    "* *cv_rslts*: mean and st.dev of the log-likelihood value for each hyperparameter combination\n",
    "* *best_params*: The hyper-parameter combination where the mean log-likelihood value is maximized. *HOWEVER*, we recommend using the one-standard-error rule to select the most parsimonious combination that is within st.dev/$\\sqrt{k}$ of the maximum log-likelihood value ($\\S$7.10 of Hastie et al. (2009))"
   ]
  },
  {
   "cell_type": "markdown",
   "metadata": {},
   "source": [
    "Note: Due to a problem the Jupyter notebook has with the multiprocessing package, the code commented out below should be run as a script outside of Jupyter, for example in Spyder. Here we set the hyperparameters to the combination found using 5-fold cross-validation on the data"
   ]
  },
  {
   "cell_type": "code",
   "execution_count": 8,
   "metadata": {},
   "outputs": [],
   "source": [
    "'''\n",
    "from model_selection import cv\n",
    "cv_rslts, best_params = cv(\n",
    "                          param_grid, \n",
    "                          X, \n",
    "                          w,\n",
    "                          delta,\n",
    "                          subjects, \n",
    "                          num_folds,\n",
    "                          gpu_list,\n",
    "                          batch_size)\n",
    "'''\n",
    "best_params = {'max_depth':    1,\n",
    "              'n_estimators': 150,\n",
    "              'eta':          0.1}"
   ]
  },
  {
   "cell_type": "markdown",
   "metadata": {},
   "source": [
    "Fit BoXHED to the training data:"
   ]
  },
  {
   "cell_type": "code",
   "execution_count": 9,
   "metadata": {},
   "outputs": [
    {
     "data": {
      "text/plain": [
       "boxhed(n_estimators=150)"
      ]
     },
     "execution_count": 9,
     "metadata": {},
     "output_type": "execute_result"
    }
   ],
   "source": [
    "boxhed_.set_params (**best_params)\n",
    "boxhed_.fit (X, delta, w)"
   ]
  },
  {
   "cell_type": "markdown",
   "metadata": {},
   "source": [
    "Load the test set and the values of the true hazard function at the test points:"
   ]
  },
  {
   "cell_type": "code",
   "execution_count": 10,
   "metadata": {},
   "outputs": [],
   "source": [
    "true_haz, test_x = _read_synth_test(exp_num, num_irr) "
   ]
  },
  {
   "cell_type": "markdown",
   "metadata": {},
   "source": [
    "Use the fitted model to estimate the value of the hazard function for each row of the test set:"
   ]
  },
  {
   "cell_type": "code",
   "execution_count": 11,
   "metadata": {},
   "outputs": [],
   "source": [
    "preds = boxhed_.predict(test_x)"
   ]
  },
  {
   "cell_type": "markdown",
   "metadata": {},
   "source": [
    "Compute the RMSE of the estimates, and its 95% confidence interval:"
   ]
  },
  {
   "cell_type": "code",
   "execution_count": 12,
   "metadata": {},
   "outputs": [
    {
     "data": {
      "text/plain": [
       "[0.17020165844435603, [0.16961137402779425, 0.1707919428609178]]"
      ]
     },
     "execution_count": 12,
     "metadata": {},
     "output_type": "execute_result"
    }
   ],
   "source": [
    "from main import calc_L2\n",
    "L2 = calc_L2(preds, true_haz)\n",
    "L2"
   ]
  },
  {
   "cell_type": "code",
   "execution_count": null,
   "metadata": {},
   "outputs": [],
   "source": []
  }
 ],
 "metadata": {
  "kernelspec": {
   "display_name": "Python 3",
   "language": "python",
   "name": "python3"
  },
  "language_info": {
   "codemirror_mode": {
    "name": "ipython",
    "version": 3
   },
   "file_extension": ".py",
   "mimetype": "text/x-python",
   "name": "python",
   "nbconvert_exporter": "python",
   "pygments_lexer": "ipython3",
   "version": "3.8.5"
  }
 },
 "nbformat": 4,
 "nbformat_minor": 2
}
