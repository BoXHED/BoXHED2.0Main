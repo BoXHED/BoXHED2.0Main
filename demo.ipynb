{
 "cells": [
  {
   "cell_type": "markdown",
   "metadata": {},
   "source": [
    "# BoXHED 2.0"
   ]
  },
  {
   "cell_type": "markdown",
   "metadata": {},
   "source": [
    "BoXHED 2.0 is a software package for nonparametrically estimating hazard functions via gradient boosting. It extends BoXHED 1.0 whose paper can be found here: [BoXHED: Boosted eXact Hazard Estimator with Dynamic covariates](http://proceedings.mlr.press/v119/wang20o/wang20o.pdf)."
   ]
  },
  {
   "cell_type": "markdown",
   "metadata": {},
   "source": [
    "## Prerequisites\n",
    "The software developed and tested in Linux and Mac OS environments. The requirements are the following:\n",
    "- cmake  (>=3.18.2)\n",
    "- Python (>=3.8)\n",
    "- conda"
   ]
  },
  {
   "cell_type": "markdown",
   "metadata": {},
   "source": [
    "## Quick Start"
   ]
  },
  {
   "cell_type": "markdown",
   "metadata": {},
   "source": [
    "This section provides a demonstration of applying BoXHED 2.0 to a synthetic data example. "
   ]
  },
  {
   "cell_type": "markdown",
   "metadata": {},
   "source": [
    "### 0. Set up a conda environment"
   ]
  },
  {
   "cell_type": "markdown",
   "metadata": {},
   "source": [
    "We highly recommend devoting a conda environment to BoXHED 2.0. This step makes sure BoXHED 2.0 will not interfere with XGBoost (the library we have borrowed from extensively) when installed. This implementation uses python 3.8."
   ]
  },
  {
   "cell_type": "markdown",
   "metadata": {},
   "source": [
    "Installing the conda environment should be done prioer to opening this notebook. Therefore, you need to set up the environment as instructed here and then reopen this notebook. So, please open a terminal and do the following:"
   ]
  },
  {
   "cell_type": "markdown",
   "metadata": {},
   "source": [
    "First create the conda environment:\n",
    "```\n",
    "conda create -n boxhed2.0 python=3.8\n",
    "```"
   ]
  },
  {
   "cell_type": "markdown",
   "metadata": {},
   "source": [
    "then activate it\n",
    "```\n",
    "conda activate boxhed2.0\n",
    "```"
   ]
  },
  {
   "cell_type": "markdown",
   "metadata": {},
   "source": [
    "now install numpy, pandas, scikit-learn, pytz, py3nvml, matplotlib and jupyter notebook by:\n",
    "```\n",
    "bash conda_install_packages.sh\n",
    "```"
   ]
  },
  {
   "cell_type": "markdown",
   "metadata": {},
   "source": [
    "then run jupyter notebook\n",
    "```\n",
    "jupyter notebook \n",
    "``` "
   ]
  },
  {
   "cell_type": "markdown",
   "metadata": {},
   "source": [
    "now open this notebook using the jupyter you just openened. Then move to step 1."
   ]
  },
  {
   "cell_type": "markdown",
   "metadata": {},
   "source": [
    "### 1. Install BoXHED2.0 and Preprocessor"
   ]
  },
  {
   "cell_type": "markdown",
   "metadata": {},
   "source": [
    "This stage installs BoXHED2.0 as well as the preprocessor. You may install them by running the following line:"
   ]
  },
  {
   "cell_type": "code",
   "execution_count": 1,
   "metadata": {
    "scrolled": true
   },
   "outputs": [
    {
     "name": "stdout",
     "output_type": "stream",
     "text": [
      "~ ~ ~ ~ ~ ~ > creating build directory for boxhed2.0 in /Users/a.pakbin-admin/Desktop/boxhed_test/BoXHED2.0Main/BoXHED2.0/  ...\n",
      " -- successful\n",
      "~ ~ ~ ~ ~ ~ > running cmake for boxhed in /Users/a.pakbin-admin/Desktop/boxhed_test/BoXHED2.0Main/BoXHED2.0/build/  ...\n",
      " -- successful\n",
      "~ ~ ~ ~ ~ ~ > running make for boxhed in /Users/a.pakbin-admin/Desktop/boxhed_test/BoXHED2.0Main/BoXHED2.0/build/  ...\n",
      " -- successful\n",
      "~ ~ ~ ~ ~ ~ > setting up boxhed for python in /Users/a.pakbin-admin/Desktop/boxhed_test/BoXHED2.0Main/BoXHED2.0/python-package/  ...\n",
      " -- successful\n",
      "~ ~ ~ ~ ~ ~ > boxhed installed successfully  ...\n",
      "~ ~ ~ ~ ~ ~ > creating build directory for preprocessor in /Users/a.pakbin-admin/Desktop/boxhed_test/BoXHED2.0Main/build/  ...\n",
      " -- successful\n",
      "~ ~ ~ ~ ~ ~ > running cmake for preprocessor in /Users/a.pakbin-admin/Desktop/boxhed_test/BoXHED2.0Main/build/  ...\n",
      " -- successful\n",
      "~ ~ ~ ~ ~ ~ > running cmake --build for preprocessor in /Users/a.pakbin-admin/Desktop/boxhed_test/BoXHED2.0Main/build/  ...\n",
      " -- successful\n",
      "~ ~ ~ ~ ~ ~ > preprocessor installed successfully  ...\n"
     ]
    }
   ],
   "source": [
    "! bash setup.sh"
   ]
  },
  {
   "cell_type": "markdown",
   "metadata": {},
   "source": [
    "### 2. Importing convenience functions from main.py"
   ]
  },
  {
   "cell_type": "markdown",
   "metadata": {},
   "source": [
    "Here we introduce the functions we import from main.py (the script we use for evaluating BoXHED2.0)."
   ]
  },
  {
   "cell_type": "markdown",
   "metadata": {},
   "source": [
    "**_read_synth** reads the synthetic data for training and returns a pandas dataframe.\n",
    "\n",
    "input:\n",
    "* *ind_exp*: hazard function number, based on the paper\n",
    "* *num_irrelevant*: number of irrelevant covariates, 0, 20, or 40\n",
    "\n",
    "output:\n",
    "\n",
    "a pandas data frame consisting of the following columns:\n",
    "* *patient*: the unit number. It starts from 1 to the number of the patients in the datasets.\n",
    "* *t_start*: the start time of the observation\n",
    "* *t_end*: the end time of the observation\n",
    "* *X_i*: other covariates (the name is not important for other covariates)"
   ]
  },
  {
   "cell_type": "code",
   "execution_count": 2,
   "metadata": {},
   "outputs": [],
   "source": [
    "from main import _read_synth"
   ]
  },
  {
   "cell_type": "markdown",
   "metadata": {},
   "source": [
    "**_read_synth_test** reads the synthetic data for testing and returns a pandas dataframe as well as true hazard function (for RMSE calculation)\n",
    "\n",
    "input:\n",
    "* *ind_exp*: hazard function number, based on the paper\n",
    "* *num_irrelevant*: number of irrelevant covariates, 0, 20, or 40\n",
    "\n",
    "output:\n",
    "\n",
    "* a numpy array for true hazard function for each row of the test data.\n",
    "* a pandas data frame consisting of the following columns:\n",
    "  * *t_start*: the start time of the observation\n",
    "  * *X_i*: other covariates (the name is not important for other covariates)"
   ]
  },
  {
   "cell_type": "code",
   "execution_count": 3,
   "metadata": {},
   "outputs": [],
   "source": [
    "from main import _read_synth_test"
   ]
  },
  {
   "cell_type": "markdown",
   "metadata": {},
   "source": [
    "**drop_rows** drops rows randomly to introduce censoring. \n",
    "\n",
    "input:\n",
    "* *data*: input data as read by *_read_synth*\n",
    "* *num_irrelevant*: probability of each row staying in the dataset\n",
    "\n",
    "output:\n",
    "* a pandas data frame similar to the input, but probably with fewer rows and disccontinuity in time."
   ]
  },
  {
   "cell_type": "code",
   "execution_count": 4,
   "metadata": {},
   "outputs": [],
   "source": [
    "from main import drop_rows"
   ]
  },
  {
   "cell_type": "markdown",
   "metadata": {},
   "source": [
    "as an example, we select arbitrary values for simulation parameters and train/test BoXHED2.0 using them."
   ]
  },
  {
   "cell_type": "markdown",
   "metadata": {},
   "source": [
    "selecting specific simulation parameters:"
   ]
  },
  {
   "cell_type": "code",
   "execution_count": 5,
   "metadata": {},
   "outputs": [],
   "source": [
    "ind_exp   = 41  #experiment index. could also be 42, 43, and 44\n",
    "num_irr   = 20  #number of irrelevant features. could also be 0 and 40\n",
    "keep_prob = .8  #1-prob_{dropout}. could be any number in (0,1]\n",
    "num_quant = 256 #number of quantiles. Could be any integer in [8, 256] "
   ]
  },
  {
   "cell_type": "markdown",
   "metadata": {},
   "source": [
    "reading in the data"
   ]
  },
  {
   "cell_type": "code",
   "execution_count": 6,
   "metadata": {},
   "outputs": [],
   "source": [
    "data = _read_synth(ind_exp, num_irr)"
   ]
  },
  {
   "cell_type": "markdown",
   "metadata": {},
   "source": [
    "importing the preprocessor and initializing it:"
   ]
  },
  {
   "cell_type": "code",
   "execution_count": 7,
   "metadata": {},
   "outputs": [],
   "source": [
    "from preprocessor import preprocessor\n",
    "prep = preprocessor()"
   ]
  },
  {
   "cell_type": "markdown",
   "metadata": {},
   "source": [
    "now we call the preprocessor on the input data:"
   ]
  },
  {
   "cell_type": "code",
   "execution_count": 8,
   "metadata": {},
   "outputs": [],
   "source": [
    "pats, X, y = prep.preprocess(\n",
    "        data             = data,\n",
    "        quant_per_column = num_quant,\n",
    "        weighted         = True,\n",
    "        nthreads         = 1)"
   ]
  },
  {
   "cell_type": "markdown",
   "metadata": {},
   "source": [
    "The preprocessor has 4 inputs. The only one needing clarification is a boolean *weighted* which decides whether the quantiles are weighted in training or no.\n",
    "\n",
    "It also has 3 outputs:\n",
    "* *pats*: patients for each row of *X* and *y*.\n",
    "* *X*: input covariates as fed to BoXHED 2.0. It consists of covariates as well as *t_start*\n",
    "* *y*: has two columns. First column is the dt (duration of the trajectory) and the second column denotes whether the event has happened at the end of the trajectory or not."
   ]
  },
  {
   "cell_type": "markdown",
   "metadata": {},
   "source": [
    "we subsequently initialize a BoXHED model: (for simplicity we have omitted grid searching, but it is implemented in *main.py*)"
   ]
  },
  {
   "cell_type": "code",
   "execution_count": 9,
   "metadata": {},
   "outputs": [],
   "source": [
    "from boxhed import boxhed\n",
    "boxhed_ = boxhed(max_depth    = 1,\n",
    "                 n_estimators = 150)"
   ]
  },
  {
   "cell_type": "markdown",
   "metadata": {},
   "source": [
    "fitting a BoXHED model would look like:"
   ]
  },
  {
   "cell_type": "code",
   "execution_count": 10,
   "metadata": {},
   "outputs": [
    {
     "data": {
      "text/plain": [
       "boxhed(n_estimators=150)"
      ]
     },
     "execution_count": 10,
     "metadata": {},
     "output_type": "execute_result"
    }
   ],
   "source": [
    "boxhed_.fit (X,y.iloc[:,0], y.iloc[:,1])"
   ]
  },
  {
   "cell_type": "markdown",
   "metadata": {},
   "source": [
    "we now read the test set and its corresponding true hazard value:"
   ]
  },
  {
   "cell_type": "code",
   "execution_count": 11,
   "metadata": {},
   "outputs": [],
   "source": [
    "true_haz, test_X = _read_synth_test(ind_exp, num_irr) "
   ]
  },
  {
   "cell_type": "markdown",
   "metadata": {},
   "source": [
    "fixing the test data on the boundaries:"
   ]
  },
  {
   "cell_type": "code",
   "execution_count": 12,
   "metadata": {},
   "outputs": [],
   "source": [
    "test_x = prep.fix_data_on_boundaries(test_X)"
   ]
  },
  {
   "cell_type": "markdown",
   "metadata": {},
   "source": [
    "making a prediction on the test set:"
   ]
  },
  {
   "cell_type": "code",
   "execution_count": 13,
   "metadata": {},
   "outputs": [],
   "source": [
    "preds = boxhed_.predict(test_X)"
   ]
  },
  {
   "cell_type": "markdown",
   "metadata": {},
   "source": [
    "we now measure the RMSE by:"
   ]
  },
  {
   "cell_type": "code",
   "execution_count": 14,
   "metadata": {},
   "outputs": [],
   "source": [
    "from main import calc_L2\n",
    "L2 = calc_L2(preds, true_haz)"
   ]
  },
  {
   "cell_type": "markdown",
   "metadata": {},
   "source": [
    "the point estimate along with the CI is as follows:"
   ]
  },
  {
   "cell_type": "code",
   "execution_count": 15,
   "metadata": {},
   "outputs": [
    {
     "data": {
      "text/plain": [
       "[0.17424706681739754, [0.17070350517369048, 0.1777906284611046]]"
      ]
     },
     "execution_count": 15,
     "metadata": {},
     "output_type": "execute_result"
    }
   ],
   "source": [
    "L2"
   ]
  },
  {
   "cell_type": "code",
   "execution_count": null,
   "metadata": {},
   "outputs": [],
   "source": []
  }
 ],
 "metadata": {
  "kernelspec": {
   "display_name": "Python 3",
   "language": "python",
   "name": "python3"
  },
  "language_info": {
   "codemirror_mode": {
    "name": "ipython",
    "version": 3
   },
   "file_extension": ".py",
   "mimetype": "text/x-python",
   "name": "python",
   "nbconvert_exporter": "python",
   "pygments_lexer": "ipython3",
   "version": "3.8.5"
  }
 },
 "nbformat": 4,
 "nbformat_minor": 2
}
